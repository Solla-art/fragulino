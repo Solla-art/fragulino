{
 "cells": [
  {
   "cell_type": "code",
   "execution_count": 1,
   "metadata": {},
   "outputs": [],
   "source": [
    "import psycopg2\n",
    "import sys, os\n",
    "import numpy as np\n",
    "import pandas as pd\n",
    "import pandas.io.sql as psql"
   ]
  },
  {
   "cell_type": "code",
   "execution_count": 2,
   "metadata": {},
   "outputs": [],
   "source": [
    "conn_string = \"host=localhost port=5432 dbname=awesome_dev user=alice password=new_password\"\n"
   ]
  },
  {
   "cell_type": "code",
   "execution_count": null,
   "metadata": {},
   "outputs": [],
   "source": [
    "#Connecting\n",
    "conn=psycopg2.connect(conn_string)\n",
    "print(\"Connected!\")"
   ]
  },
  {
   "cell_type": "code",
   "execution_count": null,
   "metadata": {},
   "outputs": [],
   "source": [
    "# Create a cursor object\n",
    "cursor = conn.cursor()\n"
   ]
  },
  {
   "cell_type": "code",
   "execution_count": null,
   "metadata": {},
   "outputs": [],
   "source": [
    "def singularize(plurals):\n",
    "    return plurals[:-1]\n",
    "\n",
    "class Data:\n",
    "    @staticmethod\n",
    "    def get_all(table):\n",
    "        sql_command = \"SELECT * FROM {};\".format(str(table))\n",
    "        print (sql_command)\n",
    "\n",
    "        # Load the data\n",
    "        data = pd.read_sql(sql_command, conn)\n",
    "\n",
    "        print(data.shape)\n",
    "        return (data)\n",
    "    \n",
    "    @staticmethod\n",
    "    def get_columns(table):\n",
    "        q = \"\"\"                              \n",
    "        SELECT column_name\n",
    "        FROM information_schema.columns\n",
    "        WHERE table_name = {};\n",
    "        \"\"\".format(table)\n",
    "        return pd.read_sql(q, conn);\n",
    "    \n",
    "    def all_with_(*table):\n",
    "        first = table[0]\n",
    "        sql_command = \"select * from {0} inner join {1} on {0}.id={1}.{2}_id\".format(str(first), str(table[1]), singularize(str(first)))\n",
    "        for i in range(2, len(table)):\n",
    "            first = table[i-1]\n",
    "            sql_command += \"inner join {1} on {0}.id={1}.{2}_id\".format(str(first), str(table[i]), singularize(str(first)))\n",
    "        print (sql_command)\n",
    "\n",
    "        # Load the data\n",
    "        data = pd.read_sql(sql_command, conn)\n",
    "\n",
    "        print(data.shape)\n",
    "        return (data)\n",
    "\n"
   ]
  },
  {
   "cell_type": "code",
   "execution_count": null,
   "metadata": {},
   "outputs": [],
   "source": [
    "employees = Data.load_all(\"employees\")\n",
    "employees"
   ]
  },
  {
   "cell_type": "code",
   "execution_count": null,
   "metadata": {},
   "outputs": [],
   "source": [
    "receipts = Data.all_with_(\"receipts\", \"receipt_items\")\n",
    "receipts"
   ]
  },
  {
   "cell_type": "code",
   "execution_count": null,
   "metadata": {},
   "outputs": [],
   "source": [
    "Data.all_with_(\"receipts\", \"receipt_items\", \"item\")"
   ]
  },
  {
   "cell_type": "code",
   "execution_count": null,
   "metadata": {},
   "outputs": [],
   "source": [
    "Data.all_with_(\"receipts\", \"receipt_items\", \"items\")"
   ]
  },
  {
   "cell_type": "code",
   "execution_count": null,
   "metadata": {},
   "outputs": [],
   "source": [
    "Data.get_columns(\"receipts\")"
   ]
  },
  {
   "cell_type": "code",
   "execution_count": null,
   "metadata": {},
   "outputs": [],
   "source": [
    "#pd.read_sql(sql_command, conn)\n",
    "def get_columns(table):\n",
    "    command = \"select * from {0} limit 1\".format(str(table))\n",
    "    return pd.read_sql(command, conn).columns\n",
    "\n",
    "def plularize(name):\n",
    "    if name[-1] == 's':\n",
    "        return name\n",
    "    return name + 's'\n",
    "\n",
    "def singularize(name):\n",
    "    if name[-1] == 's'\n",
    "        return name[:-1]\n",
    "    return name\n",
    "\n"
   ]
  },
  {
   "cell_type": "code",
   "execution_count": null,
   "metadata": {},
   "outputs": [],
   "source": [
    "for worker in Data.get_all(\"employees\").iterrows():\n",
    "    print (worker.)"
   ]
  },
  {
   "cell_type": "code",
   "execution_count": null,
   "metadata": {},
   "outputs": [],
   "source": [
    "class ConnectedRow"
   ]
  }
 ],
 "metadata": {
  "kernelspec": {
   "display_name": "Python 3",
   "language": "python",
   "name": "python3"
  },
  "language_info": {
   "codemirror_mode": {
    "name": "ipython",
    "version": 3
   },
   "file_extension": ".py",
   "mimetype": "text/x-python",
   "name": "python",
   "nbconvert_exporter": "python",
   "pygments_lexer": "ipython3",
   "version": "3.7.3"
  }
 },
 "nbformat": 4,
 "nbformat_minor": 4
}
