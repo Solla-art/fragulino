{
 "cells": [
  {
   "cell_type": "code",
   "execution_count": 3,
   "metadata": {},
   "outputs": [],
   "source": [
    "import psycopg2\n",
    "import sys, os\n",
    "import numpy as np\n",
    "import pandas as pd\n",
    "import pandas.io.sql as psql"
   ]
  },
  {
   "cell_type": "code",
   "execution_count": 4,
   "metadata": {},
   "outputs": [],
   "source": [
    "conn_string = \"host=localhost port=5432 dbname=awesome_dev user=alice password=new_password\"\n"
   ]
  },
  {
   "cell_type": "code",
   "execution_count": 5,
   "metadata": {},
   "outputs": [
    {
     "name": "stdout",
     "output_type": "stream",
     "text": [
      "Connected!\n"
     ]
    }
   ],
   "source": [
    "#Connecting\n",
    "conn=psycopg2.connect(conn_string)\n",
    "print(\"Connected!\")"
   ]
  },
  {
   "cell_type": "code",
   "execution_count": 6,
   "metadata": {},
   "outputs": [],
   "source": [
    "# Create a cursor object\n",
    "cursor = conn.cursor()\n"
   ]
  },
  {
   "cell_type": "code",
   "execution_count": 7,
   "metadata": {},
   "outputs": [],
   "source": [
    "def singularize(plurals):\n",
    "    return plurals[:-1]\n",
    "\n",
    "class Data:\n",
    "    @staticmethod\n",
    "    def load_all(table):\n",
    "        sql_command = \"SELECT * FROM {};\".format(str(table))\n",
    "        print (sql_command)\n",
    "\n",
    "        # Load the data\n",
    "        data = pd.read_sql(sql_command, conn)\n",
    "\n",
    "        print(data.shape)\n",
    "        return (data)\n",
    "    \n",
    "    def all_with_(table, other_type):\n",
    "        sql_comand = \"SELECT * FROM {1} RIGHT JOIN {2} ON {1}.id == {2}.{3}\".format(strl(table), str(belonging_type), str(singularize(table)))\n",
    "        print (sql_command)\n",
    "\n",
    "        # Load the data\n",
    "        data = pd.read_sql(sql_command, conn)\n",
    "\n",
    "        print(data.shape)\n",
    "        return (data)\n",
    "\n"
   ]
  },
  {
   "cell_type": "code",
   "execution_count": 9,
   "metadata": {},
   "outputs": [
    {
     "name": "stdout",
     "output_type": "stream",
     "text": [
      "SELECT * FROM employees;\n",
      "(2, 6)\n"
     ]
    },
    {
     "data": {
      "text/html": [
       "<div>\n",
       "<style scoped>\n",
       "    .dataframe tbody tr th:only-of-type {\n",
       "        vertical-align: middle;\n",
       "    }\n",
       "\n",
       "    .dataframe tbody tr th {\n",
       "        vertical-align: top;\n",
       "    }\n",
       "\n",
       "    .dataframe thead th {\n",
       "        text-align: right;\n",
       "    }\n",
       "</style>\n",
       "<table border=\"1\" class=\"dataframe\">\n",
       "  <thead>\n",
       "    <tr style=\"text-align: right;\">\n",
       "      <th></th>\n",
       "      <th>id</th>\n",
       "      <th>full_name</th>\n",
       "      <th>shop_id</th>\n",
       "      <th>department_id</th>\n",
       "      <th>created_at</th>\n",
       "      <th>updated_at</th>\n",
       "    </tr>\n",
       "  </thead>\n",
       "  <tbody>\n",
       "    <tr>\n",
       "      <th>0</th>\n",
       "      <td>2</td>\n",
       "      <td>popochka</td>\n",
       "      <td>NaN</td>\n",
       "      <td>1</td>\n",
       "      <td>2020-05-18 22:07:25.096683</td>\n",
       "      <td>2020-05-18 22:07:25.096683</td>\n",
       "    </tr>\n",
       "    <tr>\n",
       "      <th>1</th>\n",
       "      <td>3</td>\n",
       "      <td>Mr. PeanutButter</td>\n",
       "      <td>2.0</td>\n",
       "      <td>1</td>\n",
       "      <td>2020-05-19 21:17:53.127200</td>\n",
       "      <td>2020-05-24 21:32:38.818216</td>\n",
       "    </tr>\n",
       "  </tbody>\n",
       "</table>\n",
       "</div>"
      ],
      "text/plain": [
       "   id         full_name  shop_id  department_id                 created_at  \\\n",
       "0   2          popochka      NaN              1 2020-05-18 22:07:25.096683   \n",
       "1   3  Mr. PeanutButter      2.0              1 2020-05-19 21:17:53.127200   \n",
       "\n",
       "                  updated_at  \n",
       "0 2020-05-18 22:07:25.096683  \n",
       "1 2020-05-24 21:32:38.818216  "
      ]
     },
     "execution_count": 9,
     "metadata": {},
     "output_type": "execute_result"
    }
   ],
   "source": [
    "employees = Data.load_all(\"employees\")\n",
    "employees"
   ]
  },
  {
   "cell_type": "code",
   "execution_count": 19,
   "metadata": {},
   "outputs": [
    {
     "name": "stdout",
     "output_type": "stream",
     "text": [
      "SELECT * FROM receipts;\n",
      "(12, 5)\n"
     ]
    }
   ],
   "source": [
    "receipts = Data.load_all(\"receipts\")"
   ]
  },
  {
   "cell_type": "code",
   "execution_count": null,
   "metadata": {},
   "outputs": [],
   "source": []
  }
 ],
 "metadata": {
  "kernelspec": {
   "display_name": "Python 3",
   "language": "python",
   "name": "python3"
  },
  "language_info": {
   "codemirror_mode": {
    "name": "ipython",
    "version": 3
   },
   "file_extension": ".py",
   "mimetype": "text/x-python",
   "name": "python",
   "nbconvert_exporter": "python",
   "pygments_lexer": "ipython3",
   "version": "3.7.3"
  }
 },
 "nbformat": 4,
 "nbformat_minor": 4
}
